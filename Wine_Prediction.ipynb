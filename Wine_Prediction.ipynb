{
 "cells": [
  {
   "cell_type": "markdown",
   "metadata": {},
   "source": [
    "# Wine Dataset Analysis"
   ]
  },
  {
   "cell_type": "code",
   "execution_count": 1,
   "metadata": {},
   "outputs": [],
   "source": [
    "# Import the Required Libraries\n",
    "import numpy as np\n",
    "import pandas as pd\n",
    "from scipy import stats\n",
    "from sklearn import tree\n",
    "from sklearn.tree import DecisionTreeClassifier\n",
    "import numpy as np # linear algebra\n",
    "import pandas as pd # data processing, CSV file I/O (e.g. pd.read_csv)\n",
    "import matplotlib.pyplot as plt\n",
    "import seaborn as sns\n",
    "from sklearn.preprocessing import StandardScaler \n",
    "from sklearn.model_selection import train_test_split,KFold, cross_val_score\n",
    "from sklearn.metrics import accuracy_score, roc_curve, auc, confusion_matrix, precision_score\n",
    "from sklearn.ensemble import RandomForestClassifier\n",
    "from sklearn.cluster import KMeans\n",
    "from sklearn.neighbors import KNeighborsClassifier\n",
    "from sklearn.preprocessing import scale\n",
    "from sklearn import metrics\n",
    "from sklearn.metrics import classification_report,confusion_matrix\n",
    "import matplotlib.pyplot as plt\n",
    "from sklearn.naive_bayes import GaussianNB,MultinomialNB"
   ]
  },
  {
   "cell_type": "code",
   "execution_count": 2,
   "metadata": {},
   "outputs": [],
   "source": [
    "# Read the csv file\n",
    "input_file = \"/Users/deepak/Documents/DAEN/CS 504/Assignment 4/wine.csv\"\n",
    "df = pd.read_csv(input_file, header = 0)"
   ]
  },
  {
   "cell_type": "code",
   "execution_count": 3,
   "metadata": {},
   "outputs": [
    {
     "data": {
      "text/html": [
       "<div>\n",
       "<style scoped>\n",
       "    .dataframe tbody tr th:only-of-type {\n",
       "        vertical-align: middle;\n",
       "    }\n",
       "\n",
       "    .dataframe tbody tr th {\n",
       "        vertical-align: top;\n",
       "    }\n",
       "\n",
       "    .dataframe thead th {\n",
       "        text-align: right;\n",
       "    }\n",
       "</style>\n",
       "<table border=\"1\" class=\"dataframe\">\n",
       "  <thead>\n",
       "    <tr style=\"text-align: right;\">\n",
       "      <th></th>\n",
       "      <th>1</th>\n",
       "      <th>14.23</th>\n",
       "      <th>1.71</th>\n",
       "      <th>2.43</th>\n",
       "      <th>15.6</th>\n",
       "      <th>127</th>\n",
       "      <th>2.8</th>\n",
       "      <th>3.06</th>\n",
       "      <th>.28</th>\n",
       "      <th>2.29</th>\n",
       "      <th>5.64</th>\n",
       "      <th>1.04</th>\n",
       "      <th>3.92</th>\n",
       "      <th>1065</th>\n",
       "    </tr>\n",
       "  </thead>\n",
       "  <tbody>\n",
       "    <tr>\n",
       "      <td>0</td>\n",
       "      <td>1</td>\n",
       "      <td>13.20</td>\n",
       "      <td>1.78</td>\n",
       "      <td>2.14</td>\n",
       "      <td>11.2</td>\n",
       "      <td>100</td>\n",
       "      <td>2.65</td>\n",
       "      <td>2.76</td>\n",
       "      <td>0.26</td>\n",
       "      <td>1.28</td>\n",
       "      <td>4.38</td>\n",
       "      <td>1.05</td>\n",
       "      <td>3.40</td>\n",
       "      <td>1050</td>\n",
       "    </tr>\n",
       "    <tr>\n",
       "      <td>1</td>\n",
       "      <td>1</td>\n",
       "      <td>13.16</td>\n",
       "      <td>2.36</td>\n",
       "      <td>2.67</td>\n",
       "      <td>18.6</td>\n",
       "      <td>101</td>\n",
       "      <td>2.80</td>\n",
       "      <td>3.24</td>\n",
       "      <td>0.30</td>\n",
       "      <td>2.81</td>\n",
       "      <td>5.68</td>\n",
       "      <td>1.03</td>\n",
       "      <td>3.17</td>\n",
       "      <td>1185</td>\n",
       "    </tr>\n",
       "    <tr>\n",
       "      <td>2</td>\n",
       "      <td>1</td>\n",
       "      <td>14.37</td>\n",
       "      <td>1.95</td>\n",
       "      <td>2.50</td>\n",
       "      <td>16.8</td>\n",
       "      <td>113</td>\n",
       "      <td>3.85</td>\n",
       "      <td>3.49</td>\n",
       "      <td>0.24</td>\n",
       "      <td>2.18</td>\n",
       "      <td>7.80</td>\n",
       "      <td>0.86</td>\n",
       "      <td>3.45</td>\n",
       "      <td>1480</td>\n",
       "    </tr>\n",
       "    <tr>\n",
       "      <td>3</td>\n",
       "      <td>1</td>\n",
       "      <td>13.24</td>\n",
       "      <td>2.59</td>\n",
       "      <td>2.87</td>\n",
       "      <td>21.0</td>\n",
       "      <td>118</td>\n",
       "      <td>2.80</td>\n",
       "      <td>2.69</td>\n",
       "      <td>0.39</td>\n",
       "      <td>1.82</td>\n",
       "      <td>4.32</td>\n",
       "      <td>1.04</td>\n",
       "      <td>2.93</td>\n",
       "      <td>735</td>\n",
       "    </tr>\n",
       "    <tr>\n",
       "      <td>4</td>\n",
       "      <td>1</td>\n",
       "      <td>14.20</td>\n",
       "      <td>1.76</td>\n",
       "      <td>2.45</td>\n",
       "      <td>15.2</td>\n",
       "      <td>112</td>\n",
       "      <td>3.27</td>\n",
       "      <td>3.39</td>\n",
       "      <td>0.34</td>\n",
       "      <td>1.97</td>\n",
       "      <td>6.75</td>\n",
       "      <td>1.05</td>\n",
       "      <td>2.85</td>\n",
       "      <td>1450</td>\n",
       "    </tr>\n",
       "  </tbody>\n",
       "</table>\n",
       "</div>"
      ],
      "text/plain": [
       "   1  14.23  1.71  2.43  15.6  127   2.8  3.06   .28  2.29  5.64  1.04  3.92  \\\n",
       "0  1  13.20  1.78  2.14  11.2  100  2.65  2.76  0.26  1.28  4.38  1.05  3.40   \n",
       "1  1  13.16  2.36  2.67  18.6  101  2.80  3.24  0.30  2.81  5.68  1.03  3.17   \n",
       "2  1  14.37  1.95  2.50  16.8  113  3.85  3.49  0.24  2.18  7.80  0.86  3.45   \n",
       "3  1  13.24  2.59  2.87  21.0  118  2.80  2.69  0.39  1.82  4.32  1.04  2.93   \n",
       "4  1  14.20  1.76  2.45  15.2  112  3.27  3.39  0.34  1.97  6.75  1.05  2.85   \n",
       "\n",
       "   1065  \n",
       "0  1050  \n",
       "1  1185  \n",
       "2  1480  \n",
       "3   735  \n",
       "4  1450  "
      ]
     },
     "execution_count": 3,
     "metadata": {},
     "output_type": "execute_result"
    }
   ],
   "source": [
    "df.head()"
   ]
  },
  {
   "cell_type": "markdown",
   "metadata": {},
   "source": [
    "#  1. Data Pre Processing\n",
    "###     1.1 Let us add the headers to the dataset"
   ]
  },
  {
   "cell_type": "code",
   "execution_count": 4,
   "metadata": {},
   "outputs": [],
   "source": [
    "df.columns = [  'name'\n",
    "                 ,'alcohol'\n",
    "                 ,'malicAcid'\n",
    "                 ,'ash'\n",
    "                 ,'ashalcalinity'\n",
    "                 ,'magnesium'\n",
    "                 ,'totalPhenols'\n",
    "                 ,'flavanoids'\n",
    "                 ,'nonFlavanoidPhenols'\n",
    "                 ,'proanthocyanins'\n",
    "                 ,'colorIntensity'\n",
    "                 ,'hue'\n",
    "                 ,'od280_od315'\n",
    "                 ,'proline'\n",
    "                ]\n"
   ]
  },
  {
   "cell_type": "code",
   "execution_count": 5,
   "metadata": {},
   "outputs": [
    {
     "data": {
      "text/html": [
       "<div>\n",
       "<style scoped>\n",
       "    .dataframe tbody tr th:only-of-type {\n",
       "        vertical-align: middle;\n",
       "    }\n",
       "\n",
       "    .dataframe tbody tr th {\n",
       "        vertical-align: top;\n",
       "    }\n",
       "\n",
       "    .dataframe thead th {\n",
       "        text-align: right;\n",
       "    }\n",
       "</style>\n",
       "<table border=\"1\" class=\"dataframe\">\n",
       "  <thead>\n",
       "    <tr style=\"text-align: right;\">\n",
       "      <th></th>\n",
       "      <th>name</th>\n",
       "      <th>alcohol</th>\n",
       "      <th>malicAcid</th>\n",
       "      <th>ash</th>\n",
       "      <th>ashalcalinity</th>\n",
       "      <th>magnesium</th>\n",
       "      <th>totalPhenols</th>\n",
       "      <th>flavanoids</th>\n",
       "      <th>nonFlavanoidPhenols</th>\n",
       "      <th>proanthocyanins</th>\n",
       "      <th>colorIntensity</th>\n",
       "      <th>hue</th>\n",
       "      <th>od280_od315</th>\n",
       "      <th>proline</th>\n",
       "    </tr>\n",
       "  </thead>\n",
       "  <tbody>\n",
       "    <tr>\n",
       "      <td>0</td>\n",
       "      <td>1</td>\n",
       "      <td>13.20</td>\n",
       "      <td>1.78</td>\n",
       "      <td>2.14</td>\n",
       "      <td>11.2</td>\n",
       "      <td>100</td>\n",
       "      <td>2.65</td>\n",
       "      <td>2.76</td>\n",
       "      <td>0.26</td>\n",
       "      <td>1.28</td>\n",
       "      <td>4.38</td>\n",
       "      <td>1.05</td>\n",
       "      <td>3.40</td>\n",
       "      <td>1050</td>\n",
       "    </tr>\n",
       "    <tr>\n",
       "      <td>1</td>\n",
       "      <td>1</td>\n",
       "      <td>13.16</td>\n",
       "      <td>2.36</td>\n",
       "      <td>2.67</td>\n",
       "      <td>18.6</td>\n",
       "      <td>101</td>\n",
       "      <td>2.80</td>\n",
       "      <td>3.24</td>\n",
       "      <td>0.30</td>\n",
       "      <td>2.81</td>\n",
       "      <td>5.68</td>\n",
       "      <td>1.03</td>\n",
       "      <td>3.17</td>\n",
       "      <td>1185</td>\n",
       "    </tr>\n",
       "    <tr>\n",
       "      <td>2</td>\n",
       "      <td>1</td>\n",
       "      <td>14.37</td>\n",
       "      <td>1.95</td>\n",
       "      <td>2.50</td>\n",
       "      <td>16.8</td>\n",
       "      <td>113</td>\n",
       "      <td>3.85</td>\n",
       "      <td>3.49</td>\n",
       "      <td>0.24</td>\n",
       "      <td>2.18</td>\n",
       "      <td>7.80</td>\n",
       "      <td>0.86</td>\n",
       "      <td>3.45</td>\n",
       "      <td>1480</td>\n",
       "    </tr>\n",
       "    <tr>\n",
       "      <td>3</td>\n",
       "      <td>1</td>\n",
       "      <td>13.24</td>\n",
       "      <td>2.59</td>\n",
       "      <td>2.87</td>\n",
       "      <td>21.0</td>\n",
       "      <td>118</td>\n",
       "      <td>2.80</td>\n",
       "      <td>2.69</td>\n",
       "      <td>0.39</td>\n",
       "      <td>1.82</td>\n",
       "      <td>4.32</td>\n",
       "      <td>1.04</td>\n",
       "      <td>2.93</td>\n",
       "      <td>735</td>\n",
       "    </tr>\n",
       "    <tr>\n",
       "      <td>4</td>\n",
       "      <td>1</td>\n",
       "      <td>14.20</td>\n",
       "      <td>1.76</td>\n",
       "      <td>2.45</td>\n",
       "      <td>15.2</td>\n",
       "      <td>112</td>\n",
       "      <td>3.27</td>\n",
       "      <td>3.39</td>\n",
       "      <td>0.34</td>\n",
       "      <td>1.97</td>\n",
       "      <td>6.75</td>\n",
       "      <td>1.05</td>\n",
       "      <td>2.85</td>\n",
       "      <td>1450</td>\n",
       "    </tr>\n",
       "  </tbody>\n",
       "</table>\n",
       "</div>"
      ],
      "text/plain": [
       "   name  alcohol  malicAcid   ash  ashalcalinity  magnesium  totalPhenols  \\\n",
       "0     1    13.20       1.78  2.14           11.2        100          2.65   \n",
       "1     1    13.16       2.36  2.67           18.6        101          2.80   \n",
       "2     1    14.37       1.95  2.50           16.8        113          3.85   \n",
       "3     1    13.24       2.59  2.87           21.0        118          2.80   \n",
       "4     1    14.20       1.76  2.45           15.2        112          3.27   \n",
       "\n",
       "   flavanoids  nonFlavanoidPhenols  proanthocyanins  colorIntensity   hue  \\\n",
       "0        2.76                 0.26             1.28            4.38  1.05   \n",
       "1        3.24                 0.30             2.81            5.68  1.03   \n",
       "2        3.49                 0.24             2.18            7.80  0.86   \n",
       "3        2.69                 0.39             1.82            4.32  1.04   \n",
       "4        3.39                 0.34             1.97            6.75  1.05   \n",
       "\n",
       "   od280_od315  proline  \n",
       "0         3.40     1050  \n",
       "1         3.17     1185  \n",
       "2         3.45     1480  \n",
       "3         2.93      735  \n",
       "4         2.85     1450  "
      ]
     },
     "execution_count": 5,
     "metadata": {},
     "output_type": "execute_result"
    }
   ],
   "source": [
    "df.head()"
   ]
  },
  {
   "cell_type": "markdown",
   "metadata": {},
   "source": [
    "### 1.2 Checking for Missing Values"
   ]
  },
  {
   "cell_type": "code",
   "execution_count": 6,
   "metadata": {},
   "outputs": [
    {
     "data": {
      "text/plain": [
       "name                   0\n",
       "alcohol                0\n",
       "malicAcid              0\n",
       "ash                    0\n",
       "ashalcalinity          0\n",
       "magnesium              0\n",
       "totalPhenols           0\n",
       "flavanoids             0\n",
       "nonFlavanoidPhenols    0\n",
       "proanthocyanins        0\n",
       "colorIntensity         0\n",
       "hue                    0\n",
       "od280_od315            0\n",
       "proline                0\n",
       "dtype: int64"
      ]
     },
     "execution_count": 6,
     "metadata": {},
     "output_type": "execute_result"
    }
   ],
   "source": [
    "df.isnull().sum()"
   ]
  },
  {
   "cell_type": "markdown",
   "metadata": {},
   "source": [
    "#### There is no missing values in the Datasets "
   ]
  },
  {
   "cell_type": "markdown",
   "metadata": {},
   "source": [
    "# 1.3 Check for Outliers"
   ]
  },
  {
   "cell_type": "code",
   "execution_count": 7,
   "metadata": {},
   "outputs": [
    {
     "data": {
      "image/png": "[encoded data removed]",
      "text/plain": [
       "<Figure size 432x288 with 1 Axes>"
      ]
     },
     "metadata": {
      "needs_background": "light"
     },
     "output_type": "display_data"
    }
   ],
   "source": [
    "boxplot_1 = df.boxplot(column=['alcohol', 'malicAcid', 'ash','ashalcalinity','magnesium','totalPhenols','flavanoids'])"
   ]
  },
  {
   "cell_type": "code",
   "execution_count": 8,
   "metadata": {},
   "outputs": [
    {
     "data": {
      "image/png": "[encoded data removed]",
      "text/plain": [
       "<Figure size 432x288 with 1 Axes>"
      ]
     },
     "metadata": {
      "needs_background": "light"
     },
     "output_type": "display_data"
    }
   ],
   "source": [
    "boxplot_2 = df.boxplot(column=['nonFlavanoidPhenols', 'proanthocyanins','colorIntensity','hue','od280_od315'])"
   ]
  },
  {
   "cell_type": "code",
   "execution_count": 9,
   "metadata": {},
   "outputs": [
    {
     "data": {
      "image/png": "[encoded data removed]",
      "text/plain": [
       "<Figure size 432x288 with 1 Axes>"
      ]
     },
     "metadata": {
      "needs_background": "light"
     },
     "output_type": "display_data"
    }
   ],
   "source": [
    "boxplot_3 = df.boxplot(column=['proline'])"
   ]
  },
  {
   "cell_type": "markdown",
   "metadata": {},
   "source": [
    "### From the box plot it can be seen that there are certain varaibles such as colorIntensity ,proanthocyanins etc with outliers. Let us now calculate the z-score and remove the outliers"
   ]
  },
  {
   "cell_type": "code",
   "execution_count": 10,
   "metadata": {},
   "outputs": [
    {
     "name": "stdout",
     "output_type": "stream",
     "text": [
      "[[1.22246766 0.2558245  0.50162433 ... 0.40709978 1.13169801 0.97105248]\n",
      " [1.22246766 0.20622873 0.01802001 ... 0.3195674  0.80457911 1.40099798]\n",
      " [1.22246766 1.70650069 0.34931478 ... 0.4244579  1.20281081 2.34050852]\n",
      " ...\n",
      " [1.36887097 0.34261709 1.73822194 ... 1.60614514 1.48525319 0.28632445]\n",
      " [1.36887097 0.21862767 0.22408586 ... 1.56237895 1.39991783 0.30224836]\n",
      " [1.36887097 1.40892609 1.57695301 ... 1.51861275 1.42836295 0.58949046]]\n"
     ]
    }
   ],
   "source": [
    "z = np.abs(stats.zscore(df))\n",
    "print(z)"
   ]
  },
  {
   "cell_type": "markdown",
   "metadata": {},
   "source": [
    "### Looking the code and the output above, it is difficult to say which data point is an outlier. Let’s try and define a threshold to identify an outlier."
   ]
  },
  {
   "cell_type": "code",
   "execution_count": 11,
   "metadata": {},
   "outputs": [
    {
     "name": "stdout",
     "output_type": "stream",
     "text": [
      "(array([ 24,  58,  68,  72,  94, 109, 114, 120, 120, 122, 157]), array([ 3,  3,  5,  4,  5,  9, 11,  3,  7,  2, 10]))\n"
     ]
    }
   ],
   "source": [
    "threshold = 3\n",
    "print(np.where(z > 3))\n",
    "#The below arrow denotes the row and column numbers with outliers"
   ]
  },
  {
   "cell_type": "code",
   "execution_count": 12,
   "metadata": {},
   "outputs": [],
   "source": [
    "# Let us now remove the Outliers by setting a threshold of 3\n",
    "df_Outlier_Rm = df[(z < 3).all(axis=1)]"
   ]
  },
  {
   "cell_type": "markdown",
   "metadata": {},
   "source": [
    "### Let us now comapre the original data frame and the data frame after removing outliers"
   ]
  },
  {
   "cell_type": "code",
   "execution_count": 13,
   "metadata": {},
   "outputs": [
    {
     "name": "stdout",
     "output_type": "stream",
     "text": [
      "(177, 14)\n",
      "(167, 14)\n"
     ]
    }
   ],
   "source": [
    "print(df.shape)\n",
    "print(df_Outlier_Rm.shape)"
   ]
  },
  {
   "cell_type": "markdown",
   "metadata": {},
   "source": [
    "#### It can be seen from the above output that new data frame had 10 records removed from the following varaibles ash,ashalcalinity,magnesium,colorIntensity,hue,od280_od315"
   ]
  },
  {
   "cell_type": "markdown",
   "metadata": {},
   "source": [
    "# 1.4 Scaling the Data"
   ]
  },
  {
   "cell_type": "code",
   "execution_count": 14,
   "metadata": {},
   "outputs": [],
   "source": [
    "X = np.array(df_Outlier_Rm[['alcohol','malicAcid','ash','ashalcalinity','magnesium','totalPhenols','flavanoids','nonFlavanoidPhenols',\n",
    "                           'proanthocyanins','colorIntensity','hue','od280_od315','proline']])\n",
    "Y = np.array(df_Outlier_Rm['name'])"
   ]
  },
  {
   "cell_type": "code",
   "execution_count": 15,
   "metadata": {},
   "outputs": [
    {
     "data": {
      "text/plain": [
       "StandardScaler(copy=True, with_mean=True, with_std=True)"
      ]
     },
     "execution_count": 15,
     "metadata": {},
     "output_type": "execute_result"
    }
   ],
   "source": [
    "scaler = StandardScaler()\n",
    "#fitting scaler to the feature\n",
    "scaler.fit(X)"
   ]
  },
  {
   "cell_type": "code",
   "execution_count": 16,
   "metadata": {},
   "outputs": [],
   "source": [
    "#Use the .transform() method to transform the features into a scaled version.\n",
    "scaled_features = scaler.transform(X)"
   ]
  },
  {
   "cell_type": "code",
   "execution_count": 17,
   "metadata": {},
   "outputs": [
    {
     "data": {
      "text/html": [
       "<div>\n",
       "<style scoped>\n",
       "    .dataframe tbody tr th:only-of-type {\n",
       "        vertical-align: middle;\n",
       "    }\n",
       "\n",
       "    .dataframe tbody tr th {\n",
       "        vertical-align: top;\n",
       "    }\n",
       "\n",
       "    .dataframe thead th {\n",
       "        text-align: right;\n",
       "    }\n",
       "</style>\n",
       "<table border=\"1\" class=\"dataframe\">\n",
       "  <thead>\n",
       "    <tr style=\"text-align: right;\">\n",
       "      <th></th>\n",
       "      <th>0</th>\n",
       "      <th>1</th>\n",
       "      <th>2</th>\n",
       "      <th>3</th>\n",
       "      <th>4</th>\n",
       "      <th>5</th>\n",
       "      <th>6</th>\n",
       "      <th>7</th>\n",
       "      <th>8</th>\n",
       "      <th>9</th>\n",
       "      <th>10</th>\n",
       "      <th>11</th>\n",
       "      <th>12</th>\n",
       "    </tr>\n",
       "  </thead>\n",
       "  <tbody>\n",
       "    <tr>\n",
       "      <td>0</td>\n",
       "      <td>0.220856</td>\n",
       "      <td>-0.517329</td>\n",
       "      <td>-0.941214</td>\n",
       "      <td>-2.635682</td>\n",
       "      <td>0.112324</td>\n",
       "      <td>0.605147</td>\n",
       "      <td>0.769990</td>\n",
       "      <td>-0.833568</td>\n",
       "      <td>-0.510459</td>\n",
       "      <td>-0.327073</td>\n",
       "      <td>0.450540</td>\n",
       "      <td>1.147246</td>\n",
       "      <td>0.939194</td>\n",
       "    </tr>\n",
       "    <tr>\n",
       "      <td>1</td>\n",
       "      <td>0.170071</td>\n",
       "      <td>0.011520</td>\n",
       "      <td>1.238453</td>\n",
       "      <td>-0.252441</td>\n",
       "      <td>0.193177</td>\n",
       "      <td>0.844549</td>\n",
       "      <td>1.258881</td>\n",
       "      <td>-0.510397</td>\n",
       "      <td>2.395679</td>\n",
       "      <td>0.252533</td>\n",
       "      <td>0.359802</td>\n",
       "      <td>0.822014</td>\n",
       "      <td>1.363253</td>\n",
       "    </tr>\n",
       "    <tr>\n",
       "      <td>2</td>\n",
       "      <td>1.706333</td>\n",
       "      <td>-0.362321</td>\n",
       "      <td>0.539314</td>\n",
       "      <td>-0.832148</td>\n",
       "      <td>1.163420</td>\n",
       "      <td>2.520363</td>\n",
       "      <td>1.513511</td>\n",
       "      <td>-0.995154</td>\n",
       "      <td>1.199034</td>\n",
       "      <td>1.197739</td>\n",
       "      <td>-0.411474</td>\n",
       "      <td>1.217949</td>\n",
       "      <td>2.289901</td>\n",
       "    </tr>\n",
       "    <tr>\n",
       "      <td>3</td>\n",
       "      <td>0.271642</td>\n",
       "      <td>0.221237</td>\n",
       "      <td>2.060968</td>\n",
       "      <td>0.520502</td>\n",
       "      <td>1.567688</td>\n",
       "      <td>0.844549</td>\n",
       "      <td>0.698694</td>\n",
       "      <td>0.216737</td>\n",
       "      <td>0.515236</td>\n",
       "      <td>-0.353825</td>\n",
       "      <td>0.405171</td>\n",
       "      <td>0.482641</td>\n",
       "      <td>-0.050278</td>\n",
       "    </tr>\n",
       "    <tr>\n",
       "      <td>4</td>\n",
       "      <td>1.490495</td>\n",
       "      <td>-0.535565</td>\n",
       "      <td>0.333685</td>\n",
       "      <td>-1.347444</td>\n",
       "      <td>1.082567</td>\n",
       "      <td>1.594675</td>\n",
       "      <td>1.411659</td>\n",
       "      <td>-0.187226</td>\n",
       "      <td>0.800152</td>\n",
       "      <td>0.729595</td>\n",
       "      <td>0.450540</td>\n",
       "      <td>0.369517</td>\n",
       "      <td>2.195665</td>\n",
       "    </tr>\n",
       "    <tr>\n",
       "      <td>...</td>\n",
       "      <td>...</td>\n",
       "      <td>...</td>\n",
       "      <td>...</td>\n",
       "      <td>...</td>\n",
       "      <td>...</td>\n",
       "      <td>...</td>\n",
       "      <td>...</td>\n",
       "      <td>...</td>\n",
       "      <td>...</td>\n",
       "      <td>...</td>\n",
       "      <td>...</td>\n",
       "      <td>...</td>\n",
       "      <td>...</td>\n",
       "    </tr>\n",
       "    <tr>\n",
       "      <td>162</td>\n",
       "      <td>0.868372</td>\n",
       "      <td>3.011372</td>\n",
       "      <td>0.333685</td>\n",
       "      <td>0.359473</td>\n",
       "      <td>-0.291944</td>\n",
       "      <td>-0.942986</td>\n",
       "      <td>-1.419832</td>\n",
       "      <td>1.267043</td>\n",
       "      <td>-0.928335</td>\n",
       "      <td>1.153153</td>\n",
       "      <td>-1.409595</td>\n",
       "      <td>-1.200083</td>\n",
       "      <td>-0.034572</td>\n",
       "    </tr>\n",
       "    <tr>\n",
       "      <td>163</td>\n",
       "      <td>0.474784</td>\n",
       "      <td>1.424824</td>\n",
       "      <td>0.457063</td>\n",
       "      <td>1.164622</td>\n",
       "      <td>0.274031</td>\n",
       "      <td>-0.751464</td>\n",
       "      <td>-1.277239</td>\n",
       "      <td>0.539909</td>\n",
       "      <td>-0.263533</td>\n",
       "      <td>0.974813</td>\n",
       "      <td>-1.137380</td>\n",
       "      <td>-1.454612</td>\n",
       "      <td>-0.003160</td>\n",
       "    </tr>\n",
       "    <tr>\n",
       "      <td>164</td>\n",
       "      <td>0.309731</td>\n",
       "      <td>1.762194</td>\n",
       "      <td>-0.447705</td>\n",
       "      <td>0.198443</td>\n",
       "      <td>1.729395</td>\n",
       "      <td>-1.086627</td>\n",
       "      <td>-1.338350</td>\n",
       "      <td>0.539909</td>\n",
       "      <td>-0.377499</td>\n",
       "      <td>2.267782</td>\n",
       "      <td>-1.636441</td>\n",
       "      <td>-1.454612</td>\n",
       "      <td>0.263840</td>\n",
       "    </tr>\n",
       "    <tr>\n",
       "      <td>165</td>\n",
       "      <td>0.182767</td>\n",
       "      <td>0.221237</td>\n",
       "      <td>0.004679</td>\n",
       "      <td>0.198443</td>\n",
       "      <td>1.729395</td>\n",
       "      <td>-0.990866</td>\n",
       "      <td>-1.348535</td>\n",
       "      <td>1.347836</td>\n",
       "      <td>-0.168561</td>\n",
       "      <td>1.866516</td>\n",
       "      <td>-1.591072</td>\n",
       "      <td>-1.369769</td>\n",
       "      <td>0.279546</td>\n",
       "    </tr>\n",
       "    <tr>\n",
       "      <td>166</td>\n",
       "      <td>1.401620</td>\n",
       "      <td>1.598068</td>\n",
       "      <td>1.526333</td>\n",
       "      <td>1.647711</td>\n",
       "      <td>-0.211091</td>\n",
       "      <td>-0.352461</td>\n",
       "      <td>-1.267053</td>\n",
       "      <td>1.590215</td>\n",
       "      <td>-0.377499</td>\n",
       "      <td>1.821931</td>\n",
       "      <td>-1.545703</td>\n",
       "      <td>-1.398050</td>\n",
       "      <td>-0.599984</td>\n",
       "    </tr>\n",
       "  </tbody>\n",
       "</table>\n",
       "<p>167 rows × 13 columns</p>\n",
       "</div>"
      ],
      "text/plain": [
       "            0         1         2         3         4         5         6  \\\n",
       "0    0.220856 -0.517329 -0.941214 -2.635682  0.112324  0.605147  0.769990   \n",
       "1    0.170071  0.011520  1.238453 -0.252441  0.193177  0.844549  1.258881   \n",
       "2    1.706333 -0.362321  0.539314 -0.832148  1.163420  2.520363  1.513511   \n",
       "3    0.271642  0.221237  2.060968  0.520502  1.567688  0.844549  0.698694   \n",
       "4    1.490495 -0.535565  0.333685 -1.347444  1.082567  1.594675  1.411659   \n",
       "..        ...       ...       ...       ...       ...       ...       ...   \n",
       "162  0.868372  3.011372  0.333685  0.359473 -0.291944 -0.942986 -1.419832   \n",
       "163  0.474784  1.424824  0.457063  1.164622  0.274031 -0.751464 -1.277239   \n",
       "164  0.309731  1.762194 -0.447705  0.198443  1.729395 -1.086627 -1.338350   \n",
       "165  0.182767  0.221237  0.004679  0.198443  1.729395 -0.990866 -1.348535   \n",
       "166  1.401620  1.598068  1.526333  1.647711 -0.211091 -0.352461 -1.267053   \n",
       "\n",
       "            7         8         9        10        11        12  \n",
       "0   -0.833568 -0.510459 -0.327073  0.450540  1.147246  0.939194  \n",
       "1   -0.510397  2.395679  0.252533  0.359802  0.822014  1.363253  \n",
       "2   -0.995154  1.199034  1.197739 -0.411474  1.217949  2.289901  \n",
       "3    0.216737  0.515236 -0.353825  0.405171  0.482641 -0.050278  \n",
       "4   -0.187226  0.800152  0.729595  0.450540  0.369517  2.195665  \n",
       "..        ...       ...       ...       ...       ...       ...  \n",
       "162  1.267043 -0.928335  1.153153 -1.409595 -1.200083 -0.034572  \n",
       "163  0.539909 -0.263533  0.974813 -1.137380 -1.454612 -0.003160  \n",
       "164  0.539909 -0.377499  2.267782 -1.636441 -1.454612  0.263840  \n",
       "165  1.347836 -0.168561  1.866516 -1.591072 -1.369769  0.279546  \n",
       "166  1.590215 -0.377499  1.821931 -1.545703 -1.398050 -0.599984  \n",
       "\n",
       "[167 rows x 13 columns]"
      ]
     },
     "execution_count": 17,
     "metadata": {},
     "output_type": "execute_result"
    }
   ],
   "source": [
    "#Converting the scaled features to a dataframe and check the dataframe to make sure the scaling worked.\n",
    "df_feat = pd.DataFrame(scaled_features) \n",
    "df_feat"
   ]
  },
  {
   "cell_type": "markdown",
   "metadata": {},
   "source": [
    "### 2 .  Let us now Split the dataset into Train and Test"
   ]
  },
  {
   "cell_type": "code",
   "execution_count": 18,
   "metadata": {},
   "outputs": [
    {
     "name": "stdout",
     "output_type": "stream",
     "text": [
      "(125, 13)\n",
      "(42, 13)\n"
     ]
    }
   ],
   "source": [
    "X_train, X_test, Y_train, Y_test = train_test_split(X, Y, test_size=0.25, random_state=0)\n",
    "print(X_train.shape)\n",
    "print(X_test.shape)\n"
   ]
  },
  {
   "cell_type": "markdown",
   "metadata": {},
   "source": [
    "#  Model 1 : Decision tree"
   ]
  },
  {
   "cell_type": "code",
   "execution_count": 19,
   "metadata": {},
   "outputs": [],
   "source": [
    "# Using a Decision Tree\n",
    "# With Gini as the impurity measure\n",
    "tree = DecisionTreeClassifier(criterion='gini', max_depth=None, random_state=0)\n",
    "tree.fit(X_train, Y_train)\n",
    "yPredTree = tree.predict(X_test)"
   ]
  },
  {
   "cell_type": "code",
   "execution_count": 20,
   "metadata": {},
   "outputs": [
    {
     "name": "stdout",
     "output_type": "stream",
     "text": [
      "0.9761904761904762\n"
     ]
    }
   ],
   "source": [
    "# Accuarcy Score\n",
    "score = accuracy_score(Y_test,yPredTree)\n",
    "print(score)"
   ]
  },
  {
   "cell_type": "markdown",
   "metadata": {},
   "source": [
    "###  The accuarcy of the Decision Tree is 97.16%"
   ]
  },
  {
   "cell_type": "markdown",
   "metadata": {},
   "source": [
    "###  Model 1 : Decision tree with 10- fold Cross Validation"
   ]
  },
  {
   "cell_type": "code",
   "execution_count": 21,
   "metadata": {},
   "outputs": [],
   "source": [
    "# Cross validate the Tree\n",
    "kfold = KFold(n_splits=10, random_state=0)\n",
    "cv_results = cross_val_score(tree, X, Y, cv=kfold, scoring='accuracy')"
   ]
  },
  {
   "cell_type": "code",
   "execution_count": 23,
   "metadata": {},
   "outputs": [
    {
     "name": "stdout",
     "output_type": "stream",
     "text": [
      "0.8669117647058823\n"
     ]
    }
   ],
   "source": [
    "print(np.mean(cv_results))"
   ]
  },
  {
   "cell_type": "markdown",
   "metadata": {},
   "source": [
    "###  The accuarcy of the 10-fold Decision Tree is approx 87%"
   ]
  },
  {
   "cell_type": "markdown",
   "metadata": {},
   "source": [
    "# Model 2 : Random Forest"
   ]
  },
  {
   "cell_type": "code",
   "execution_count": 24,
   "metadata": {},
   "outputs": [],
   "source": [
    "clf = RandomForestClassifier(n_estimators=10)\n",
    "clf = clf.fit(X, Y)\n",
    "yPredRFTree = clf.predict(X_test)"
   ]
  },
  {
   "cell_type": "code",
   "execution_count": 25,
   "metadata": {},
   "outputs": [
    {
     "name": "stdout",
     "output_type": "stream",
     "text": [
      "1.0\n"
     ]
    }
   ],
   "source": [
    "# Accuarcy Score\n",
    "score = accuracy_score(Y_test,yPredRFTree)\n",
    "print(score)"
   ]
  },
  {
   "cell_type": "markdown",
   "metadata": {},
   "source": [
    "###  The accuarcy of the Random Forest is 100%"
   ]
  },
  {
   "cell_type": "code",
   "execution_count": 27,
   "metadata": {},
   "outputs": [],
   "source": [
    "# Cross validate the Tree\n",
    "kfold = KFold(n_splits=10, random_state=0)\n",
    "cv_results = cross_val_score(clf, X, Y, cv=kfold, scoring='accuracy')"
   ]
  },
  {
   "cell_type": "code",
   "execution_count": 28,
   "metadata": {},
   "outputs": [
    {
     "name": "stdout",
     "output_type": "stream",
     "text": [
      "0.9702205882352942\n"
     ]
    }
   ],
   "source": [
    "print(np.mean(cv_results))"
   ]
  },
  {
   "cell_type": "markdown",
   "metadata": {},
   "source": [
    "###  The accuarcy of the 10-fold Random Forest is approx 97%"
   ]
  },
  {
   "cell_type": "markdown",
   "metadata": {},
   "source": [
    "## Comparison\n",
    "### The 10-fold Random Forest performs better than the 10-fold Decison Tree Model"
   ]
  },
  {
   "cell_type": "markdown",
   "metadata": {},
   "source": [
    "# Model 3 : KNN"
   ]
  },
  {
   "cell_type": "code",
   "execution_count": 29,
   "metadata": {},
   "outputs": [
    {
     "name": "stdout",
     "output_type": "stream",
     "text": [
      "(125, 13)\n",
      "(42, 13)\n"
     ]
    }
   ],
   "source": [
    "X_train, X_test, Y_train, Y_test = train_test_split(scaled_features, Y, test_size=0.25, random_state=0)\n",
    "print(X_train.shape)\n",
    "print(X_test.shape)"
   ]
  },
  {
   "cell_type": "code",
   "execution_count": 30,
   "metadata": {},
   "outputs": [
    {
     "data": {
      "text/plain": [
       "KNeighborsClassifier(algorithm='auto', leaf_size=30, metric='minkowski',\n",
       "                     metric_params=None, n_jobs=None, n_neighbors=10, p=2,\n",
       "                     weights='uniform')"
      ]
     },
     "execution_count": 30,
     "metadata": {},
     "output_type": "execute_result"
    }
   ],
   "source": [
    "knn = KNeighborsClassifier(n_neighbors=10)\n",
    "knn.fit(X_train, Y_train)"
   ]
  },
  {
   "cell_type": "code",
   "execution_count": 31,
   "metadata": {},
   "outputs": [],
   "source": [
    "# making prediction\n",
    "y_pred = knn.predict(X_test)"
   ]
  },
  {
   "cell_type": "code",
   "execution_count": 32,
   "metadata": {},
   "outputs": [
    {
     "name": "stdout",
     "output_type": "stream",
     "text": [
      "Accuracy: 0.9761904761904762\n"
     ]
    }
   ],
   "source": [
    "# Model Accuracy, how often is the classifier correct?\n",
    "print(\"Accuracy:\",metrics.accuracy_score(Y_test, y_pred))"
   ]
  },
  {
   "cell_type": "markdown",
   "metadata": {},
   "source": [
    "###  The accuarcy of the KNN is 97.6%"
   ]
  },
  {
   "cell_type": "markdown",
   "metadata": {},
   "source": [
    "##  Model 3 : KNN with 10-fold cross validation"
   ]
  },
  {
   "cell_type": "code",
   "execution_count": 33,
   "metadata": {},
   "outputs": [],
   "source": [
    "#create a new KNN model\n",
    "knn_cv = KNeighborsClassifier(n_neighbors=10)"
   ]
  },
  {
   "cell_type": "code",
   "execution_count": 34,
   "metadata": {},
   "outputs": [],
   "source": [
    "#train model with cv of 10 \n",
    "cv_scores = cross_val_score(knn_cv, scaled_features, Y, cv=10)"
   ]
  },
  {
   "cell_type": "code",
   "execution_count": 35,
   "metadata": {},
   "outputs": [
    {
     "name": "stdout",
     "output_type": "stream",
     "text": [
      "[0.94444444 0.94444444 0.94444444 0.94117647 1.         0.94117647\n",
      " 1.         1.         0.93333333 1.        ]\n"
     ]
    }
   ],
   "source": [
    "#print each cv score (accuracy) and average them\n",
    "print(cv_scores)"
   ]
  },
  {
   "cell_type": "code",
   "execution_count": 36,
   "metadata": {},
   "outputs": [
    {
     "name": "stdout",
     "output_type": "stream",
     "text": [
      "0.9649019607843137\n"
     ]
    }
   ],
   "source": [
    "print(np.mean(cv_scores))"
   ]
  },
  {
   "cell_type": "markdown",
   "metadata": {},
   "source": [
    "###  The accuarcy of the KNN is 96.4%"
   ]
  },
  {
   "cell_type": "markdown",
   "metadata": {},
   "source": [
    "Write a for loop to run KNN with K values ranging from 1 to 50 and see if the value of K\n",
    "makes a substantial difference. Make a note of the best accuracy you could get out of KNN measured by 10-fold cross validation."
   ]
  },
  {
   "cell_type": "code",
   "execution_count": 37,
   "metadata": {},
   "outputs": [],
   "source": [
    "k_range=range(1,51) # Range 1 to 50 means the value of K varies from 1 to 50\n",
    "scores={}\n",
    "scores_list=[]\n",
    "\n",
    "for k in k_range:\n",
    "    knn_cv = KNeighborsClassifier(n_neighbors=k)\n",
    "    cv_scores = cross_val_score(knn_cv, scaled_features, Y, cv=10)\n",
    "    scores[k]= np.mean(cv_scores)\n",
    "    scores_list.append(np.mean(cv_scores))"
   ]
  },
  {
   "cell_type": "code",
   "execution_count": 38,
   "metadata": {},
   "outputs": [
    {
     "data": {
      "text/plain": [
       "{1: 0.9537908496732026,\n",
       " 2: 0.9479084967320262,\n",
       " 3: 0.9593464052287581,\n",
       " 4: 0.9652287581699346,\n",
       " 5: 0.9707843137254901,\n",
       " 6: 0.9766666666666666,\n",
       " 7: 0.9649019607843137,\n",
       " 8: 0.9649019607843137,\n",
       " 9: 0.9652287581699346,\n",
       " 10: 0.9649019607843137,\n",
       " 11: 0.9763398692810457,\n",
       " 12: 0.9763398692810457,\n",
       " 13: 0.976013071895425,\n",
       " 14: 0.9649019607843137,\n",
       " 15: 0.9704575163398692,\n",
       " 16: 0.9718954248366014,\n",
       " 17: 0.9774509803921567,\n",
       " 18: 0.9774509803921567,\n",
       " 19: 0.9774509803921567,\n",
       " 20: 0.9718954248366014,\n",
       " 21: 0.9774509803921567,\n",
       " 22: 0.9774509803921567,\n",
       " 23: 0.9830065359477125,\n",
       " 24: 0.9830065359477125,\n",
       " 25: 0.9707843137254901,\n",
       " 26: 0.9830065359477125,\n",
       " 27: 0.9763398692810457,\n",
       " 28: 0.9830065359477125,\n",
       " 29: 0.9818954248366014,\n",
       " 30: 0.9830065359477125,\n",
       " 31: 0.988562091503268,\n",
       " 32: 0.988562091503268,\n",
       " 33: 0.988562091503268,\n",
       " 34: 0.988562091503268,\n",
       " 35: 0.988562091503268,\n",
       " 36: 0.988562091503268,\n",
       " 37: 0.988562091503268,\n",
       " 38: 0.988562091503268,\n",
       " 39: 0.988562091503268,\n",
       " 40: 0.988562091503268,\n",
       " 41: 0.988562091503268,\n",
       " 42: 0.988562091503268,\n",
       " 43: 0.988562091503268,\n",
       " 44: 0.988562091503268,\n",
       " 45: 0.988562091503268,\n",
       " 46: 0.9830065359477125,\n",
       " 47: 0.988562091503268,\n",
       " 48: 0.9830065359477125,\n",
       " 49: 0.9830065359477125,\n",
       " 50: 0.977124183006536}"
      ]
     },
     "execution_count": 38,
     "metadata": {},
     "output_type": "execute_result"
    }
   ],
   "source": [
    "scores"
   ]
  },
  {
   "cell_type": "markdown",
   "metadata": {},
   "source": [
    "scores_list"
   ]
  },
  {
   "cell_type": "code",
   "execution_count": 39,
   "metadata": {},
   "outputs": [
    {
     "data": {
      "text/plain": [
       "0.988562091503268"
      ]
     },
     "execution_count": 39,
     "metadata": {},
     "output_type": "execute_result"
    }
   ],
   "source": [
    "max(scores_list) # The best accuracy"
   ]
  },
  {
   "cell_type": "code",
   "execution_count": 40,
   "metadata": {},
   "outputs": [
    {
     "data": {
      "text/plain": [
       "Text(0, 0.5, 'Accuracy')"
      ]
     },
     "execution_count": 40,
     "metadata": {},
     "output_type": "execute_result"
    },
    {
     "data": {
      "image/png": "[encoded data removed]",
      "text/plain": [
       "<Figure size 432x288 with 1 Axes>"
      ]
     },
     "metadata": {
      "needs_background": "light"
     },
     "output_type": "display_data"
    }
   ],
   "source": [
    "plt.plot(k_range,scores_list)\n",
    "plt.xlabel(\"K value in KNN\")\n",
    "plt.ylabel(\"Accuracy\")"
   ]
  },
  {
   "cell_type": "markdown",
   "metadata": {},
   "source": [
    "### Conclusion\n",
    "\n",
    "### The best accuarcy for the KNN model from 1 to 50 and 10-fold cross validation is 98.85%\n",
    "### The accuarcy increases as the value of k increases until a value of 8 and post that the accuarcy keeps varying\n",
    "### There isnt a substantial difference in accuracy as the value of k increases. The difference being only 3%"
   ]
  },
  {
   "cell_type": "markdown",
   "metadata": {},
   "source": [
    "#  Model 3 : Naive Bayes Gaussian NB"
   ]
  },
  {
   "cell_type": "code",
   "execution_count": 41,
   "metadata": {},
   "outputs": [],
   "source": [
    "gnb = GaussianNB()"
   ]
  },
  {
   "cell_type": "code",
   "execution_count": 42,
   "metadata": {},
   "outputs": [
    {
     "data": {
      "text/plain": [
       "GaussianNB(priors=None, var_smoothing=1e-09)"
      ]
     },
     "execution_count": 42,
     "metadata": {},
     "output_type": "execute_result"
    }
   ],
   "source": [
    "#Train the model using the training sets\n",
    "gnb.fit(X_train, Y_train)"
   ]
  },
  {
   "cell_type": "code",
   "execution_count": 43,
   "metadata": {},
   "outputs": [],
   "source": [
    "#Predict the response for test dataset\n",
    "y_pred = gnb.predict(X_test)"
   ]
  },
  {
   "cell_type": "code",
   "execution_count": 44,
   "metadata": {},
   "outputs": [
    {
     "name": "stdout",
     "output_type": "stream",
     "text": [
      "Accuracy: 1.0\n"
     ]
    }
   ],
   "source": [
    "# Model Accuracy, how often is the classifier correct?\n",
    "print(\"Accuracy:\",metrics.accuracy_score(Y_test, y_pred))"
   ]
  },
  {
   "cell_type": "code",
   "execution_count": 45,
   "metadata": {},
   "outputs": [],
   "source": [
    "kfold = KFold(n_splits=10, random_state=0)\n",
    "cv_NB_Gaussian = cross_val_score(gnb, X, Y, cv=kfold, scoring='accuracy')"
   ]
  },
  {
   "cell_type": "code",
   "execution_count": 46,
   "metadata": {},
   "outputs": [
    {
     "name": "stdout",
     "output_type": "stream",
     "text": [
      "[1.         1.         0.88235294 0.82352941 0.94117647 1.\n",
      " 1.         1.         1.         1.        ]\n"
     ]
    }
   ],
   "source": [
    "print(cv_NB_Gaussian)"
   ]
  },
  {
   "cell_type": "code",
   "execution_count": 47,
   "metadata": {},
   "outputs": [
    {
     "name": "stdout",
     "output_type": "stream",
     "text": [
      "0.9647058823529413\n"
     ]
    }
   ],
   "source": [
    "print(np.mean(cv_NB_Gaussian))"
   ]
  },
  {
   "cell_type": "markdown",
   "metadata": {},
   "source": [
    "###  The accuarcy of the Naive Bayes Gaussion Method is 96.4% (Using 10 fold cross validation)"
   ]
  },
  {
   "cell_type": "markdown",
   "metadata": {},
   "source": [
    "#  Model 3 : Naive Bayes Multinomial NB"
   ]
  },
  {
   "cell_type": "code",
   "execution_count": 48,
   "metadata": {},
   "outputs": [],
   "source": [
    "Multi_nb = MultinomialNB()"
   ]
  },
  {
   "cell_type": "code",
   "execution_count": 49,
   "metadata": {},
   "outputs": [],
   "source": [
    "# Model Accuracy, how often is the classifier correct?\n",
    "kfold = KFold(n_splits=10, random_state=0)\n",
    "cv_NB_MultiNominal = cross_val_score(Multi_nb, X, Y, cv=kfold, scoring='accuracy')"
   ]
  },
  {
   "cell_type": "code",
   "execution_count": 50,
   "metadata": {},
   "outputs": [
    {
     "name": "stdout",
     "output_type": "stream",
     "text": [
      "0.8382352941176471\n"
     ]
    }
   ],
   "source": [
    "print(np.mean(cv_NB_MultiNominal))"
   ]
  },
  {
   "cell_type": "code",
   "execution_count": 51,
   "metadata": {},
   "outputs": [
    {
     "name": "stdout",
     "output_type": "stream",
     "text": [
      "[0.94117647 0.82352941 0.82352941 0.70588235 0.70588235 0.88235294\n",
      " 1.         0.6875     0.8125     1.        ]\n"
     ]
    }
   ],
   "source": [
    "print(cv_NB_MultiNominal)"
   ]
  },
  {
   "cell_type": "markdown",
   "metadata": {},
   "source": [
    "###  The accuarcy of the Naive Bayes MultiNomial Method is 83.82% (Using 10 fold cross validation)\n",
    "\n",
    "### The performance of the  Gaussian NB model is better than Multinomial NB  with an accuarcy of approx 96% to an accuracy of approx 83%"
   ]
  },
  {
   "cell_type": "markdown",
   "metadata": {},
   "source": [
    "# Result Summary"
   ]
  },
  {
   "cell_type": "markdown",
   "metadata": {},
   "source": [
    "## Step 1 Data Pre proccesing - Missing Values were checked , then Outliers were identified nd removed. Post that the Data for all the attribute variables were scaled\n",
    "\n",
    "### Accuracy of the Models\n",
    "#### Decision Tree - 97.16%\n",
    "#### Decision Tree with 10 fold Cross Validation - 87%\n",
    "#### Random Forest with 10 fold Cross Validation - 97%\n",
    "#### The 10-fold Random Forest performs better than the 10-fold Decison Tree Model\n",
    "\n",
    "#### KNN ( N=10 ) - 97.6%\n",
    "\n",
    "#### The best accuarcy for the KNN model from 1 to 50 and 10-fold cross validation is 98.85%\n",
    "#### The accuarcy increases as the value of k increases until a value of 8 and post that the accuarcy keeps varying\n",
    "#### There isnt a substantial difference in accuracy as the value of k increases. The difference being only 3%\n",
    "\n",
    "#### The accuarcy of the Naive Bayes MultiNomial Method is 83.82% (Using 10 fold cross validation)\n",
    "#### The accuarcy of the Naive Bayes Gaussion Method is 96.4% (Using 10 fold cross validation)\n",
    "#### The performance of the  Gaussian NB model is better than Multinomial NB  with an accuarcy of approx 96% to an accuracy of approx 83%\n"
   ]
  },
  {
   "cell_type": "code",
   "execution_count": null,
   "metadata": {},
   "outputs": [],
   "source": []
  }
 ],
 "metadata": {
  "kernelspec": {
   "display_name": "Python 3",
   "language": "python",
   "name": "python3"
  },
  "language_info": {
   "codemirror_mode": {
    "name": "ipython",
    "version": 3
   },
   "file_extension": ".py",
   "mimetype": "text/x-python",
   "name": "python",
   "nbconvert_exporter": "python",
   "pygments_lexer": "ipython3",
   "version": "3.7.4"
  }
 },
 "nbformat": 4,
 "nbformat_minor": 2
}
